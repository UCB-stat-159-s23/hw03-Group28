{
 "cells": [
  {
   "cell_type": "markdown",
   "id": "b06d277a-5235-41f5-8f2c-592731168841",
   "metadata": {
    "user_expressions": []
   },
   "source": [
    "## 1. The Manua Loa CO2 data [15 points] "
   ]
  },
  {
   "cell_type": "markdown",
   "id": "51b21968-3f0a-4c06-aa9d-a96a2acd9b06",
   "metadata": {
    "user_expressions": []
   },
   "source": [
    "### Question 2 [5 points]\n",
    "\n",
    "Next, in order to recreate the figure in the talk, we're going to find the monthly anomaly averaging across years. You should end up with the following data frame after writing your function and running the cell (only the first few months are shown, it should have data for all 12 months):\n",
    "\n",
    "<img src=\"figures/monthly-co2-anomaly-df.png\" width=\"150px\" />\n",
    "\n",
    "In order to do so, you will have to remove the annual average and use that to identify the monthly trend. Here some clue of how to do this, but feel free to explore other options:"
   ]
  },
  {
   "cell_type": "code",
   "execution_count": 1,
   "id": "7456fc6e-983e-43f1-9d44-33ed27bdab97",
   "metadata": {},
   "outputs": [
    {
     "name": "stderr",
     "output_type": "stream",
     "text": [
      "/tmp/ipykernel_8119/187724789.py:10: MatplotlibDeprecationWarning: The seaborn styles shipped by Matplotlib are deprecated since 3.6, as they no longer correspond to the styles shipped by seaborn. However, they will remain available as 'seaborn-v0_8-<style>'. Alternatively, directly use the seaborn API instead.\n",
      "  plt.style.use(\"seaborn-whitegrid\")\n"
     ]
    }
   ],
   "source": [
    "import matplotlib.pyplot as plt\n",
    "import numpy as np\n",
    "import pandas as pd\n",
    "import seaborn as sns\n",
    "import os\n",
    "\n",
    "from pathlib import Path\n",
    "\n",
    "# Small style adjustments for more readable plots\n",
    "plt.style.use(\"seaborn-whitegrid\")\n",
    "plt.rcParams[\"figure.figsize\"] = (8, 6)\n",
    "plt.rcParams[\"font.size\"] = 14"
   ]
  },
  {
   "cell_type": "code",
   "execution_count": 2,
   "id": "91ee4283-bf5f-4672-a83f-783e8d9815c0",
   "metadata": {},
   "outputs": [],
   "source": [
    "DATA_DIR = Path.home()/Path('shared/climate-data')\n",
    "\n",
    "co2_file = DATA_DIR / \"monthly_in_situ_co2_mlo_cleaned.csv\"\n",
    "data = pd.read_csv(co2_file, na_values=-99.99).dropna()\n"
   ]
  },
  {
   "cell_type": "code",
   "execution_count": 3,
   "id": "3d418bcf-e4c5-460a-b608-8a7f348af743",
   "metadata": {},
   "outputs": [
    {
     "name": "stdout",
     "output_type": "stream",
     "text": [
      "            c02\n",
      "month          \n",
      "1     -0.683835\n",
      "2      0.076121\n",
      "3      0.874238\n",
      "4      2.240270\n",
      "5      2.864155\n",
      "6      2.299297\n",
      "7      0.792919\n",
      "8     -1.195018\n",
      "9     -2.851367\n",
      "10    -2.857316\n",
      "11    -1.453272\n",
      "12    -0.159303\n"
     ]
    }
   ],
   "source": [
    "# BEGIN SOLUTION\n",
    "\n",
    "# Calculate the annual mean for each month\n",
    "annual_means = data.groupby('year')['c02'].mean()\n",
    "\n",
    "# Subtract the annual mean from each data point\n",
    "data_copy = data.copy()\n",
    "for year in data_copy['year'].unique():\n",
    "    data_copy.loc[data_copy['year'] == year, 'c02'] -= annual_means[year]\n",
    "    \n",
    "# Calculate the monthly anomaly\n",
    "monthly_anomaly = data_copy.groupby('month').mean()[['c02']]\n",
    "print(monthly_anomaly.head(12))\n",
    "\n",
    " # END SOLUTION"
   ]
  },
  {
   "cell_type": "markdown",
   "id": "627b3545-a2e6-4f20-a1aa-37cd336d133c",
   "metadata": {
    "user_expressions": []
   },
   "source": [
    "You can test the output of your result by"
   ]
  },
  {
   "cell_type": "code",
   "execution_count": 4,
   "id": "a9879ffe-f7ad-4a3a-bc9a-d553895791fd",
   "metadata": {},
   "outputs": [],
   "source": [
    "#New test floating-point numbers\n",
    "\n",
    "Q2_ans = [-0.6838350970017644, 0.07612096774193428, 0.8742380952380925,\n",
    "          2.240269841269833, 2.8641545138888853, 2.299296594982075, \n",
    "          0.792918871252205, -1.1950176366843068, -2.851366843033514, \n",
    "          -2.8573163082437323, -1.453271604938272, -0.15930335097002282]\n",
    "\n",
    "def test_float_division():\n",
    "    assert np.isclose(Q2_ans, list(monthly_anomaly['c02']))\n"
   ]
  }
 ],
 "metadata": {
  "kernelspec": {
   "display_name": "Python 3 (ipykernel)",
   "language": "python",
   "name": "python3"
  },
  "language_info": {
   "codemirror_mode": {
    "name": "ipython",
    "version": 3
   },
   "file_extension": ".py",
   "mimetype": "text/x-python",
   "name": "python",
   "nbconvert_exporter": "python",
   "pygments_lexer": "ipython3",
   "version": "3.10.8"
  }
 },
 "nbformat": 4,
 "nbformat_minor": 5
}
